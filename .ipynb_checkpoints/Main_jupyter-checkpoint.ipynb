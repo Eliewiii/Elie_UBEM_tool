{
 "cells": [
  {
   "cell_type": "code",
   "execution_count": null,
   "metadata": {
    "pycharm": {
     "name": "#%% Load inputs\n"
    }
   },
   "outputs": [],
   "source": [
    "import os\n",
    "import json\n",
    "from getpass import getuser\n",
    "\n",
    "####  Get user  ####\n",
    "\n",
    "elie='elie-medioni'\n",
    "path_folder_elie=\"D://Elie//PhD//Simulation\"\n",
    "path_LBT_elie = \"C://Users//elie-medioni//ladybug_tools//resources//standards//honeybee_standards\"\n",
    "\n",
    "abraham=''\n",
    "path_folder_abraham=None\n",
    "path_LBT_abraham = None\n",
    "\n",
    "user = getuser()\n",
    "\n",
    "if user==elie:\n",
    "    path_LBT_user_defined = path_LBT_elie\n",
    "    path_folder = path_folder_elie\n",
    "elif user==abraham:\n",
    "    path_LBT_user_defined = path_LBT_abraham\n",
    "    path_folder = path_folder_abraham\n",
    "else:\n",
    "    print(\"The user is not defined\")\n",
    "\n",
    "#### Extract Input file ####\n",
    "## Path of the input file\n",
    "path_input_file=os.path.join(path_folder,\"Input_Data\",\"input.json\")\n",
    "## load input file\n",
    "input_file = open(path_input_file,\"r\")\n",
    "json_dict=json.load(input_file)\n",
    "input_file.close()\n",
    "## Input file variable\n",
    "epw = input_file[\"epw\"]\n",
    "gis = input_file[\"gis\"]\n",
    "unit_gis = input_file[\"unit_gis\"]\n",
    "target_buildings = input_file[\"target_buildings\"]\n",
    "\n",
    "#### Prepare paths ####\n",
    "path_folder_typology = os.path.join(path_folder,\"Input_Data\",\"Typologies\")\n",
    "path_folder_construction_and_load_library = os.path.join(path_folder,\"Input_Data\",\"Constructions_and_Loads\")\n",
    "## GIS\n",
    "path_file_gis = os.path.join(path_folder,\"Input_Data\",\"GIS\",gis)\n",
    "## EPW\n",
    "path_file_epw = os.path.join(path_folder,\"Input_Data\",\"EPW\",epw)\n",
    "## Simulation parameters\n",
    "path_folder_simulation_parameter = os.path.join(path_folder,\"Input_Data\",\"Simulation_parameters\",\"test\")\n",
    "path_simulation_parameter = os.path.join(path_folder_simulation_parameter,\"simulation_parameter.json\")\n",
    "## Simulation\n",
    "path_folder_simulation = os.path.join(path_folder,\"Simulation\")\n",
    "path_folder_context_hbjson = os.path.join(path_folder_simulation,\"Context\")\n",
    "path_folder_building_simulation = os.path.join(path_folder_simulation,\"Simulation\",\"Buildings\")\n"
   ]
  }
 ],
 "metadata": {
  "kernelspec": {
   "display_name": "Python 3 (ipykernel)",
   "language": "python",
   "name": "python3"
  },
  "language_info": {
   "codemirror_mode": {
    "name": "ipython",
    "version": 2
   },
   "file_extension": ".py",
   "mimetype": "text/x-python",
   "name": "python",
   "nbconvert_exporter": "python",
   "pygments_lexer": "ipython2",
   "version": "2.7.6"
  }
 },
 "nbformat": 4,
 "nbformat_minor": 1
}
