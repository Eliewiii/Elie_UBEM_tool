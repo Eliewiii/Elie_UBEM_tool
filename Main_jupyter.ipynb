{
 "cells": [
  {
   "cell_type": "code",
   "execution_count": 116,
   "metadata": {
    "pycharm": {
     "name": "#%% Load general libraries\n"
    }
   },
   "outputs": [],
   "source": [
    "import os\n",
    "import json\n",
    "\n",
    "import logging"
   ]
  },
  {
   "cell_type": "code",
   "execution_count": 117,
   "outputs": [],
   "source": [
    "from getpass import getuser\n",
    "\n",
    "####  Get user  ####\n",
    "elie = 'elie-medioni'\n",
    "# path_folder_elie=\"D://Elie//PhD//Simulation\"\n",
    "path_folder_elie = \"D://Elie//PhD//Simulation\"\n",
    "path_LBT_elie = \"C://Users//elie-medioni//ladybug_tools//resources//standards//honeybee_standards\"\n",
    "\n",
    "abraham = ''\n",
    "path_folder_abraham = None\n",
    "path_LBT_abraham = None\n",
    "\n",
    "user = getuser()\n",
    "\n",
    "if user == elie:\n",
    "    path_LBT_user_defined = path_LBT_elie\n",
    "    path_folder = path_folder_elie\n",
    "elif user == abraham:\n",
    "    path_LBT_user_defined = path_LBT_abraham\n",
    "    path_folder = path_folder_abraham\n",
    "else:\n",
    "    print(\"The user is not defined\")\n",
    "\n",
    "#### Extract Input file ####\n",
    "## Path of the input file\n",
    "path_input_file = os.path.join(path_folder, \"Input_Data\", \"inputs.json\")\n",
    "## load input file\n",
    "input_file = open(path_input_file, \"r\")\n",
    "json_dict = json.load(input_file)\n",
    "input_file.close()\n",
    "## Input file variable\n",
    "epw = json_dict[\"epw\"]\n",
    "gis = json_dict[\"gis\"]\n",
    "unit_gis = json_dict[\"unit_gis\"]\n",
    "target_buildings = json_dict[\"target_buildings\"]\n",
    "VF_criterion_shading = json_dict[\"VF_criterion_shading\"]\n",
    "# VF_criterion_simulated_buildings = json_dict[\"VF_criterion_simulated_buildings\"]\n",
    "# VF_criterion_lwr = json_dict[\"VF_criterion_lwr\"]\n",
    "\n",
    "#### Prepare paths ####\n",
    "path_folder_typology = os.path.join(path_folder, \"Input_Data\", \"Typology\", \"Typologies\")\n",
    "path_folder_construction_and_load_library = os.path.join(path_folder, \"Input_Data\", \"Constructions_and_Loads\")\n",
    "## GIS\n",
    "path_file_gis = os.path.join(path_folder, \"Input_Data\", \"GIS\", gis)\n",
    "## EPW\n",
    "path_file_epw = os.path.join(path_folder, \"Input_Data\", \"EPW\", epw)\n",
    "## Simulation parameters\n",
    "path_folder_simulation_parameter = os.path.join(path_folder, \"Input_Data\", \"Simulation_parameters\", \"annual_results\")\n",
    "path_simulation_parameter = os.path.join(path_folder_simulation_parameter, \"simulation_parameter.json\")\n",
    "## folder outputs\n",
    "path_folder_output=os.path.join(path_folder, \"Program_output\", )\n",
    "## EnergyPlus\n",
    "path_energyplus_exe = \"C:\\EnergyPlusV22-1-0\\energyplus.exe\"\n",
    "\n",
    "## name of the simulation\n",
    "from datetime import datetime\n",
    "\n",
    "now = datetime.now()\n",
    "dt_string = now.strftime(\"%d_%m_%Y_%Hh_%Mm_%Ss\")  # get the date and time to get an unique identifier\n",
    "\n",
    "simulation_name = \"\"\n",
    "manual_input = input(\"type an additional string for the name of the simulation: \")\n",
    "if manual_input != \"\":\n",
    "    simulation_id = \"Simulation_\" + simulation_name + manual_input\n",
    "    if simulation_id in os.listdir(path_folder_output):\n",
    "        simulation_id = \"Simulation_\" + simulation_name+\"_\" + manual_input+\"_\" + dt_string\n",
    "else:\n",
    "    simulation_id = \"Simulation_\" + simulation_name+\"_\" + manual_input+\"_\" + dt_string\n",
    "\n",
    "## Simulation\n",
    "path_folder_simulation = os.path.join(path_folder_output, simulation_id)\n",
    "path_folder_context_hbjson = os.path.join(path_folder_simulation, \"Context\")\n",
    "path_folder_building_simulation = os.path.join(path_folder_simulation, \"Buildings\")"
   ],
   "metadata": {
    "collapsed": false,
    "pycharm": {
     "name": "#%% Load inputs\n"
    }
   }
  },
  {
   "cell_type": "code",
   "execution_count": 118,
   "outputs": [
    {
     "name": "stdout",
     "output_type": "stream",
     "text": [
      "D://Elie//PhD//Simulation\\Program_output\\Simulation_BER_proj_R1-W1-G4_s_005\\Buildings\n"
     ]
    }
   ],
   "source": [
    "print(path_folder_building_simulation)"
   ],
   "metadata": {
    "collapsed": false,
    "pycharm": {
     "name": "#%% test\n"
    }
   }
  },
  {
   "cell_type": "code",
   "execution_count": 119,
   "outputs": [],
   "source": [
    "from library import Library\n",
    "\n",
    "## load user defined object for the LBT, before importing the LBT (otherwise the objects will not be updated\n",
    "Library.load_HBjson_sets(path_construction_and_load_library_folder=path_folder_construction_and_load_library,\n",
    "                                    path_LBT_user_defined=path_LBT_user_defined)"
   ],
   "metadata": {
    "collapsed": false,
    "pycharm": {
     "name": "#%% Load Typology\n"
    }
   }
  },
  {
   "cell_type": "code",
   "execution_count": 120,
   "outputs": [],
   "source": [
    "from urban_canopy import Urban_canopy\n",
    "\n",
    "# import honeybee\n",
    "# import honeybee_energy\n",
    "#\n",
    "# from honeybee.model import Model\n",
    "# from honeybee.room import Room\n",
    "#\n",
    "# from honeybee_energy import run"
   ],
   "metadata": {
    "collapsed": false,
    "pycharm": {
     "name": "#%% Load libraries\n"
    }
   }
  },
  {
   "cell_type": "code",
   "execution_count": 121,
   "outputs": [
    {
     "name": "stdout",
     "output_type": "stream",
     "text": [
      "Typology \"BER_proj_R0-W0-G1\" does not have building type, it will be set as \"residential\" by default\n",
      "Typology \"BER_proj_R0-W0-G2\" does not have building type, it will be set as \"residential\" by default\n",
      "Typology \"BER_proj_R0-W0-G3\" does not have building type, it will be set as \"residential\" by default\n",
      "Typology \"BER_proj_R0-W0-G4\" does not have building type, it will be set as \"residential\" by default\n",
      "Typology \"BER_proj_R0-W0-G5\" does not have building type, it will be set as \"residential\" by default\n",
      "Typology \"BER_proj_R0-W0-G6\" does not have building type, it will be set as \"residential\" by default\n",
      "Typology \"BER_proj_R0-W0-G7\" does not have building type, it will be set as \"residential\" by default\n",
      "Typology \"BER_proj_R0-W1-G0\" does not have building type, it will be set as \"residential\" by default\n",
      "Typology \"BER_proj_R0-W2-G0\" does not have building type, it will be set as \"residential\" by default\n",
      "Typology \"BER_proj_R1-W0-G0\" does not have building type, it will be set as \"residential\" by default\n",
      "Typology \"BER_proj_R1-W1-G0\" does not have building type, it will be set as \"residential\" by default\n",
      "Typology \"BER_proj_R1-W1-G1\" does not have building type, it will be set as \"residential\" by default\n",
      "Typology \"BER_proj_R1-W1-G4\" does not have building type, it will be set as \"residential\" by default\n",
      "Typology \"BER_proj_R1-W1-G4_ew_0004\" does not have building type, it will be set as \"residential\" by default\n",
      "Typology \"BER_proj_R1-W1-G4_g015\" does not have building type, it will be set as \"residential\" by default\n",
      "Typology \"BER_proj_R1-W1-G4_n_001\" does not have building type, it will be set as \"residential\" by default\n",
      "Typology \"BER_proj_R1-W1-G4_n_005\" does not have building type, it will be set as \"residential\" by default\n",
      "Typology \"BER_proj_R1-W1-G4_s_005\" does not have building type, it will be set as \"residential\" by default\n",
      "Typology \"BER_proj_R1-W1-G7\" does not have building type, it will be set as \"residential\" by default\n",
      "Typology \"BER_proj_R1-W2-G0\" does not have building type, it will be set as \"residential\" by default\n",
      "Typology \"BER_proj_R2-W0-G0\" does not have building type, it will be set as \"residential\" by default\n",
      "Typology \"BER_proj_R2-W1-G0\" does not have building type, it will be set as \"residential\" by default\n",
      "Typology \"BER_proj_R2-W2-G0\" does not have building type, it will be set as \"residential\" by default\n",
      "Typology \"BER_proj_R2-W2-G1\" does not have building type, it will be set as \"residential\" by default\n",
      "Typology \"BER_proj_R2-W2-G4\" does not have building type, it will be set as \"residential\" by default\n",
      "Typology \"BER_proj_R2-W2-G4\" does not have building type, it will be set as \"residential\" by default\n",
      "Typology \"BER_proj_R2-W2-G7\" does not have building type, it will be set as \"residential\" by default\n",
      "Typology \"BER_proj_ref_constr\" does not have building type, it will be set as \"residential\" by default\n",
      "Typology \"train_40x4\" does not have building type, it will be set as \"residential\" by default\n",
      "Typology \"train_40x4\" does not have internal, it will be set with the defaults values for building in Israel by default\n",
      "Typology \"train_40x4\" does not have shading type, it will be set as \"no_shading\" by default\n"
     ]
    }
   ],
   "source": [
    "## Create Urban Canopy\n",
    "U_c = Urban_canopy(\"random_neighborhood\")\n",
    "\n",
    "## Load Typologies in the Urban canopy object\n",
    "U_c.load_typologies(path_folder_typology)"
   ],
   "metadata": {
    "collapsed": false,
    "pycharm": {
     "name": "#%% Initialize Urban Canopy object and load typologies\n"
    }
   }
  },
  {
   "cell_type": "code",
   "execution_count": 122,
   "outputs": [
    {
     "name": "stdout",
     "output_type": "stream",
     "text": [
      "GIS extracted\n"
     ]
    }
   ],
   "source": [
    "## Extract data from GIS files\n",
    "U_c.extract_gis_2D(path_file_gis, unit_gis)\n",
    "\n",
    "print(\"GIS extracted\")"
   ],
   "metadata": {
    "collapsed": false,
    "pycharm": {
     "name": "#%% Extract GIS\n"
    }
   }
  },
  {
   "cell_type": "code",
   "execution_count": 123,
   "outputs": [],
   "source": [
    "## Define buildings to simulate\n",
    "U_c.select_target_building(target_buildings)"
   ],
   "metadata": {
    "collapsed": false,
    "pycharm": {
     "name": "#%% Identify target buildings\n"
    }
   }
  },
  {
   "cell_type": "code",
   "execution_count": 124,
   "outputs": [],
   "source": [
    "## Create Ladybug geometries with GIS footprint\n",
    "U_c.create_building_LB_geometry_footprint()\n",
    "## Create HB room envelop with GIS footprint\n",
    "U_c.create_building_HB_room_envelop()"
   ],
   "metadata": {
    "collapsed": false,
    "pycharm": {
     "name": "#%% Generate building envelop\n"
    }
   }
  },
  {
   "cell_type": "code",
   "execution_count": 125,
   "outputs": [],
   "source": [
    "# filter context and identify the buildings to simulate\n",
    "\n",
    "U_c.filter_context(0.1)"
   ],
   "metadata": {
    "collapsed": false,
    "pycharm": {
     "name": "#%% Context filter algorithm\n"
    }
   }
  },
  {
   "cell_type": "code",
   "execution_count": 126,
   "outputs": [
    {
     "name": "stdout",
     "output_type": "stream",
     "text": [
      "0\n"
     ]
    }
   ],
   "source": [
    "print(len(U_c.building_dict[0].context_buildings_id))"
   ],
   "metadata": {
    "collapsed": false,
    "pycharm": {
     "name": "#%% test\n"
    }
   }
  },
  {
   "cell_type": "code",
   "execution_count": 127,
   "outputs": [],
   "source": [
    "U_c.building_dict[0].typology = U_c.typology_dict[\"BER_proj_R1-W1-G4_s_005\"]"
   ],
   "metadata": {
    "collapsed": false,
    "pycharm": {
     "name": "#%% Force Typology\n"
    }
   }
  },
  {
   "cell_type": "code",
   "execution_count": 128,
   "outputs": [],
   "source": [
    "# print(U_c.building_dict[0].num_floor)"
   ],
   "metadata": {
    "collapsed": false,
    "pycharm": {
     "name": "#%% Force Typology\n"
    }
   }
  },
  {
   "cell_type": "code",
   "execution_count": 129,
   "outputs": [],
   "source": [
    "# convert to DF stories and buildings\n",
    "U_c.create_DF_building_according_to_typology()\n",
    "# convert to HB model\n",
    "U_c.convert_DF_building_to_HB_models()\n",
    "U_c.HB_solve_adjacencies()"
   ],
   "metadata": {
    "collapsed": false,
    "pycharm": {
     "name": "#%% DF + HB modeling using GIS data + typology\n"
    }
   }
  },
  {
   "cell_type": "code",
   "execution_count": 130,
   "outputs": [],
   "source": [
    "## Force rotation on building\n",
    "# need to guess it and rotate it at the beginning\n",
    "\n",
    "U_c.building_dict[0].HB_model_force_rotation(180)"
   ],
   "metadata": {
    "collapsed": false,
    "pycharm": {
     "name": "#%% DF + HB modeling using GIS data + typology\n"
    }
   }
  },
  {
   "cell_type": "code",
   "execution_count": 131,
   "outputs": [
    {
     "name": "stdout",
     "output_type": "stream",
     "text": [
      "Building modeled\n"
     ]
    }
   ],
   "source": [
    "# create windows\n",
    "U_c.assign_conditioned_zone()\n",
    "U_c.HB_building_window_generation_floor_area_ratio()\n",
    "\n",
    "# add shades\n",
    "U_c.add_context_surfaces_to_HB_model()\n",
    "# assign constructions, loads etc...\n",
    "U_c.apply_buildings_characteristics()\n",
    "\n",
    "# add blinds\n",
    "\n",
    "# add thermal mass\n",
    "U_c.add_thermal_mass_int_wall()\n",
    "\n",
    "print(\"Building modeled\")"
   ],
   "metadata": {
    "collapsed": false,
    "pycharm": {
     "name": "#%% DF + HB modeling using GIS data + typology\n"
    }
   }
  },
  {
   "cell_type": "code",
   "execution_count": 132,
   "outputs": [
    {
     "name": "stdout",
     "output_type": "stream",
     "text": [
      "Program Type: IS_Residential_5282_ref_AB\n",
      "Construction,\n",
      " IS_InternalWall_Internalmass_Res_Ref, !- name\n",
      " IS_CB41-4-10x50x20-030_half, !- layer 1\n",
      " IS_CementMortar_0.015;    !- layer 2\n"
     ]
    }
   ],
   "source": [
    "print(U_c.building_dict[0].HB_model.rooms[0].properties.energy.program_type)\n",
    "print(U_c.building_dict[0].HB_model.rooms[0].properties.energy.internal_masses[0].construction)\n"
   ],
   "metadata": {
    "collapsed": false,
    "pycharm": {
     "name": "#%% test\n"
    }
   }
  },
  {
   "cell_type": "code",
   "execution_count": 133,
   "outputs": [],
   "source": [
    "U_c.create_folder_simulation(path_folder_simulation, path_folder_context_hbjson, path_folder_building_simulation)"
   ],
   "metadata": {
    "collapsed": false,
    "pycharm": {
     "name": "#%% Clean/create simulation folder\n"
    }
   }
  },
  {
   "cell_type": "code",
   "execution_count": 134,
   "outputs": [],
   "source": [
    "# All the buildings that are target buildings\n",
    "U_c.context_to_hbjson(path_folder_context_hbjson)\n",
    "U_c.context_surfaces_to_hbjson(path_folder_building_simulation)\n",
    "U_c.GIS_context_individual_to_hbjson(path_folder_building_simulation)"
   ],
   "metadata": {
    "collapsed": false,
    "pycharm": {
     "name": "#%% Generate json to plot context\n"
    }
   }
  },
  {
   "cell_type": "code",
   "execution_count": 135,
   "outputs": [],
   "source": [
    "## Merge simulation parameters files\n",
    "U_c.load_simulation_parameter(path_folder_simulation_parameter, path_simulation_parameter)\n",
    "## Add design days\n",
    "U_c.add_design_days_to_simulation_parameters(path_simulation_parameter, path_file_epw)\n",
    "\n"
   ],
   "metadata": {
    "collapsed": false,
    "pycharm": {
     "name": "#%% Extract simulation parameters\n"
    }
   }
  },
  {
   "cell_type": "code",
   "execution_count": 136,
   "outputs": [],
   "source": [
    "\n",
    "#### Extract simulation parameters ####\n",
    "U_c.generate_HB_model(path_folder_building_simulation)\n",
    "\n",
    "\n"
   ],
   "metadata": {
    "collapsed": false,
    "pycharm": {
     "name": "#%% Generate HB models\n"
    }
   }
  },
  {
   "cell_type": "code",
   "execution_count": 137,
   "outputs": [],
   "source": [
    "#### Extract simulation parameters ####\n",
    "U_c.simulate_idf(path_folder_building_simulation, path_simulation_parameter, path_file_epw, path_energyplus_exe)\n",
    "\n",
    "\n",
    "\n",
    "\n",
    "\n"
   ],
   "metadata": {
    "collapsed": false,
    "pycharm": {
     "name": "#%% Generate IDF\n"
    }
   }
  },
  {
   "cell_type": "code",
   "execution_count": 138,
   "outputs": [
    {
     "name": "stdout",
     "output_type": "stream",
     "text": [
      "zob\n"
     ]
    }
   ],
   "source": [
    "print(\"zob\")\n",
    "\n",
    "\n",
    "\n",
    "\n",
    "\n",
    "\n",
    "\n",
    "\n",
    "\n",
    "\n",
    "\n",
    "\n",
    "\n",
    "\n",
    "\n",
    "\n",
    "\n",
    "\n",
    "\n",
    "\n",
    "\n",
    "\n",
    "\n",
    "\n",
    "\n",
    "\n"
   ],
   "metadata": {
    "collapsed": false,
    "pycharm": {
     "name": "#%% test\n"
    }
   }
  }
 ],
 "metadata": {
  "kernelspec": {
   "name": "pycharm-cd121374",
   "language": "python",
   "display_name": "PyCharm (pythonProject2)"
  },
  "language_info": {
   "codemirror_mode": {
    "name": "ipython",
    "version": 2
   },
   "file_extension": ".py",
   "mimetype": "text/x-python",
   "name": "python",
   "nbconvert_exporter": "python",
   "pygments_lexer": "ipython2",
   "version": "2.7.6"
  }
 },
 "nbformat": 4,
 "nbformat_minor": 1
}