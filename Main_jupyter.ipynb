{
 "cells": [
  {
   "cell_type": "code",
   "execution_count": null,
   "outputs": [],
   "source": [
    "import os\n",
    "import sys\n",
    "import logging\n",
    "import json\n",
    "\n",
    "from getpass import getuser\n",
    "from datetime import datetime\n",
    "\n",
    "from side_function import create_folder_output, move_input_files_to_output_folder"
   ],
   "metadata": {
    "collapsed": false,
    "pycharm": {
     "name": "#%% Load general libraries\n"
    }
   }
  },
  {
   "cell_type": "code",
   "execution_count": 2,
   "outputs": [
    {
     "name": "stdout",
     "output_type": "stream",
     "text": [
      "2022-07-12 12:56:23,902 [INFO] Input data extracted and simulation folder created\n"
     ]
    }
   ],
   "source": [
    "from paths import path_folder_typology, path_folder_construction_and_load_library, path_file_gis, path_file_epw,\\\n",
    "    path_folder_simulation_parameter, path_simulation_parameter, path_folder_output, path_energyplus_exe,\\\n",
    "    path_folder_simulation, path_folder_context_hbjson, path_folder_building_simulation, path_logger,\\\n",
    "    path_LBT_user_defined,path_input_file\n",
    "from paths  import unit_gis, target_buildings, VF_criterion_shading\n",
    "\n",
    "# create the simulation folder and move the inputs to the output folder\n",
    "create_folder_output(path_folder_simulation=path_folder_simulation)\n",
    "move_input_files_to_output_folder(path_folder_simulation, path_EP_parameter_par=path_folder_simulation_parameter, path_sim_input_par=path_input_file,\n",
    "                                      path_epw_par=None, path_gis_par=None)\n",
    "# logging.basicConfig(filename=path_logger, format='%(asctime)s %(levelname)s %(message)s', filemode='w')\n",
    "logging.basicConfig(level=logging.INFO, format=\"%(asctime)s [%(levelname)s] %(message)s\",\n",
    "                    handlers=[logging.FileHandler(path_logger), logging.StreamHandler(sys.stdout)])\n",
    "# log #\n",
    "logging.info(\"Input data extracted and simulation folder created\")\n",
    "#"
   ],
   "metadata": {
    "collapsed": false,
    "pycharm": {
     "name": "#%% Load inputs\n"
    }
   }
  },
  {
   "cell_type": "code",
   "execution_count": 3,
   "outputs": [
    {
     "name": "stdout",
     "output_type": "stream",
     "text": [
      "D://Elie//PhD//Simulation\\Program_output\\Simulation__111_12_07_2022_12h_56m_22s\\Buildings\n"
     ]
    }
   ],
   "source": [
    "print(path_folder_building_simulation)"
   ],
   "metadata": {
    "collapsed": false,
    "pycharm": {
     "name": "#%% test\n"
    }
   }
  },
  {
   "cell_type": "code",
   "execution_count": 4,
   "outputs": [
    {
     "name": "stdout",
     "output_type": "stream",
     "text": [
      "2022-07-12 12:56:23,954 [INFO] Library imported\n"
     ]
    }
   ],
   "source": [
    "from library import Library\n",
    "\n",
    "## load user defined object for the LBT, before importing the LBT (otherwise the objects will not be updated\n",
    "Library.load_HBjson_sets(path_construction_and_load_library_folder=path_folder_construction_and_load_library,\n",
    "                         path_LBT_user_defined=path_LBT_user_defined)\n",
    "# log #\n",
    "logging.info(\"Library imported\")\n",
    "#"
   ],
   "metadata": {
    "collapsed": false,
    "pycharm": {
     "name": "#%% Load Typology\n"
    }
   }
  },
  {
   "cell_type": "code",
   "execution_count": 5,
   "outputs": [
    {
     "name": "stdout",
     "output_type": "stream",
     "text": [
      "2022-07-12 12:56:24,373 [INFO] Successfully imported Honeybee plugin: honeybee_energy\n",
      "2022-07-12 12:56:24,442 [INFO] Successfully imported Ladybug plugin: ladybug_comfort\n",
      "2022-07-12 12:56:24,442 [INFO] Successfully imported Ladybug plugin: ladybug_geometry\n",
      "2022-07-12 12:56:24,503 [INFO] Successfully imported Honeybee plugin: honeybee_radiance\n",
      "2022-07-12 12:56:24,503 [INFO] Successfully imported Honeybee plugin: honeybee_schema\n",
      "2022-07-12 12:56:24,503 [INFO] Successfully imported Honeybee plugin: honeybee_standards\n",
      "2022-07-12 12:56:24,909 [INFO] Successfully imported Honeybee-energy plugin: honeybee_energy_standards\n",
      "2022-07-12 12:56:24,973 [INFO] Successfully imported Dragonfly plugin: dragonfly_energy\n",
      "2022-07-12 12:56:24,975 [INFO] Successfully imported Dragonfly plugin: dragonfly_schema\n",
      "2022-07-12 12:56:24,983 [INFO] Successfully imported Dragonfly plugin: dragonfly_uwg\n"
     ]
    }
   ],
   "source": [
    "from urban_canopy.urban_canopy import Urban_canopy\n"
   ],
   "metadata": {
    "collapsed": false,
    "pycharm": {
     "name": "#%% Load libraries\n"
    }
   }
  },
  {
   "cell_type": "code",
   "execution_count": 6,
   "outputs": [
    {
     "name": "stdout",
     "output_type": "stream",
     "text": [
      "Typology \"BER_proj_R0-W0-G1\" does not have building_zon type, it will be set as \"residential\" by default\n",
      "Typology \"BER_proj_R0-W0-G2\" does not have building_zon type, it will be set as \"residential\" by default\n",
      "Typology \"BER_proj_R0-W0-G3\" does not have building_zon type, it will be set as \"residential\" by default\n",
      "Typology \"BER_proj_R0-W0-G4\" does not have building_zon type, it will be set as \"residential\" by default\n",
      "Typology \"BER_proj_R0-W0-G5\" does not have building_zon type, it will be set as \"residential\" by default\n",
      "Typology \"BER_proj_R0-W0-G6\" does not have building_zon type, it will be set as \"residential\" by default\n",
      "Typology \"BER_proj_R0-W0-G7\" does not have building_zon type, it will be set as \"residential\" by default\n",
      "Typology \"BER_proj_R0-W1-G0\" does not have building_zon type, it will be set as \"residential\" by default\n",
      "Typology \"BER_proj_R0-W2-G0\" does not have building_zon type, it will be set as \"residential\" by default\n",
      "Typology \"BER_proj_R1-W0-G0\" does not have building_zon type, it will be set as \"residential\" by default\n",
      "Typology \"BER_proj_R1-W1-G0\" does not have building_zon type, it will be set as \"residential\" by default\n",
      "Typology \"BER_proj_R1-W1-G1\" does not have building_zon type, it will be set as \"residential\" by default\n",
      "Typology \"BER_proj_R1-W1-G4\" does not have building_zon type, it will be set as \"residential\" by default\n",
      "Typology \"BER_proj_R1-W1-G4_ew_0004\" does not have building_zon type, it will be set as \"residential\" by default\n",
      "Typology \"BER_proj_R1-W1-G4_g015\" does not have building_zon type, it will be set as \"residential\" by default\n",
      "Typology \"BER_proj_R1-W1-G4_n_001\" does not have building_zon type, it will be set as \"residential\" by default\n",
      "Typology \"BER_proj_R1-W1-G4_n_005\" does not have building_zon type, it will be set as \"residential\" by default\n",
      "Typology \"BER_proj_R1-W1-G4_s_005\" does not have building_zon type, it will be set as \"residential\" by default\n",
      "Typology \"BER_proj_R1-W1-G7\" does not have building_zon type, it will be set as \"residential\" by default\n",
      "Typology \"BER_proj_R1-W2-G0\" does not have building_zon type, it will be set as \"residential\" by default\n",
      "Typology \"BER_proj_R2-W0-G0\" does not have building_zon type, it will be set as \"residential\" by default\n",
      "Typology \"BER_proj_R2-W1-G0\" does not have building_zon type, it will be set as \"residential\" by default\n",
      "Typology \"BER_proj_R2-W2-G0\" does not have building_zon type, it will be set as \"residential\" by default\n",
      "Typology \"BER_proj_R2-W2-G1\" does not have building_zon type, it will be set as \"residential\" by default\n",
      "Typology \"BER_proj_R2-W2-G4\" does not have building_zon type, it will be set as \"residential\" by default\n",
      "Typology \"BER_proj_R2-W2-G4\" does not have building_zon type, it will be set as \"residential\" by default\n",
      "Typology \"BER_proj_R2-W2-G7\" does not have building_zon type, it will be set as \"residential\" by default\n",
      "Typology \"BER_proj_ref_constr\" does not have building_zon type, it will be set as \"residential\" by default\n",
      "Typology \"BER_ref_A_east\" does not have building_zon type, it will be set as \"residential\" by default\n",
      "Typology \"BER_ref_A_north\" does not have building_zon type, it will be set as \"residential\" by default\n",
      "Typology \"BER_ref_A_south\" does not have building_zon type, it will be set as \"residential\" by default\n",
      "Typology \"BER_ref_A_west\" does not have building_zon type, it will be set as \"residential\" by default\n",
      "Typology \"train_40x4\" does not have building_zon type, it will be set as \"residential\" by default\n",
      "Typology \"train_40x4\" does not have internal, it will be set with the defaults values for building_zon in Israel by default\n",
      "Typology \"train_40x4\" does not have shading type, it will be set as \"no_shading\" by default\n"
     ]
    }
   ],
   "source": [
    "## Create Urban Canopy\n",
    "U_c = Urban_canopy(\"random_neighborhood\")\n",
    "\n",
    "## Load Typologies in the Urban canopy object\n",
    "U_c.load_typologies(path_folder_typology)"
   ],
   "metadata": {
    "collapsed": false,
    "pycharm": {
     "name": "#%% Initialize Urban Canopy object and load typologies\n"
    }
   }
  },
  {
   "cell_type": "code",
   "execution_count": 7,
   "outputs": [
    {
     "name": "stdout",
     "output_type": "stream",
     "text": [
      "2022-07-12 12:56:25,073 [INFO] GIS extracted\n"
     ]
    }
   ],
   "source": [
    "## Extract data from GIS files\n",
    "U_c.extract_gis_2D(path_file_gis, unit_gis)\n",
    "\n",
    "\n",
    "# log #\n",
    "logging.info(\"GIS extracted\")\n",
    "#\n"
   ],
   "metadata": {
    "collapsed": false,
    "pycharm": {
     "name": "#%% Extract GIS\n"
    }
   }
  },
  {
   "cell_type": "code",
   "execution_count": 8,
   "outputs": [],
   "source": [
    "## Define buildings to simulate\n",
    "U_c.select_target_building(target_buildings)"
   ],
   "metadata": {
    "collapsed": false,
    "pycharm": {
     "name": "#%% Identify target buildings\n"
    }
   }
  },
  {
   "cell_type": "code",
   "execution_count": 9,
   "outputs": [],
   "source": [
    "## Create Ladybug geometries with GIS footprint\n",
    "U_c.create_building_LB_geometry_footprint()\n",
    "## Create HB room envelop with GIS footprint\n",
    "U_c.create_building_HB_room_envelop()"
   ],
   "metadata": {
    "collapsed": false,
    "pycharm": {
     "name": "#%% Generate building envelop\n"
    }
   }
  },
  {
   "cell_type": "code",
   "execution_count": 10,
   "outputs": [],
   "source": [
    "# filter context and identify the buildings to simulate\n",
    "\n",
    "U_c.filter_context(0.1)"
   ],
   "metadata": {
    "collapsed": false,
    "pycharm": {
     "name": "#%% Context filter algorithm\n"
    }
   }
  },
  {
   "cell_type": "code",
   "execution_count": 11,
   "outputs": [
    {
     "name": "stdout",
     "output_type": "stream",
     "text": [
      "0\n"
     ]
    }
   ],
   "source": [
    "print(len(U_c.building_dict[0].context_buildings_id))"
   ],
   "metadata": {
    "collapsed": false,
    "pycharm": {
     "name": "#%% test\n"
    }
   }
  },
  {
   "cell_type": "code",
   "execution_count": 12,
   "outputs": [],
   "source": [
    "U_c.building_dict[0].typology = U_c.typology_dict[\"BER_proj_R1-W1-G4_s_005\"]"
   ],
   "metadata": {
    "collapsed": false,
    "pycharm": {
     "name": "#%% Force Typology\n"
    }
   }
  },
  {
   "cell_type": "code",
   "execution_count": 13,
   "outputs": [],
   "source": [
    "# print(U_c.building_dict[0].num_floor)"
   ],
   "metadata": {
    "collapsed": false,
    "pycharm": {
     "name": "#%% Force Typology\n"
    }
   }
  },
  {
   "cell_type": "code",
   "execution_count": 14,
   "outputs": [],
   "source": [
    "# convert to DF stories and buildings\n",
    "U_c.create_DF_building_according_to_typology()\n",
    "# convert to HB model\n",
    "U_c.generate_HB_model()\n",
    "# U_c.convert_DF_building_to_HB_models()\n",
    "U_c.HB_solve_adjacencies()"
   ],
   "metadata": {
    "collapsed": false,
    "pycharm": {
     "name": "#%% DF + HB modeling using GIS data + typology\n"
    }
   }
  },
  {
   "cell_type": "code",
   "execution_count": 15,
   "outputs": [],
   "source": [
    "## Force rotation on building\n",
    "# need to guess it and rotate it at the beginning\n",
    "\n",
    "U_c.building_dict[0].HB_model_force_rotation(180)"
   ],
   "metadata": {
    "collapsed": false,
    "pycharm": {
     "name": "#%% DF + HB modeling using GIS data + typology\n"
    }
   }
  },
  {
   "cell_type": "code",
   "execution_count": 16,
   "outputs": [
    {
     "name": "stdout",
     "output_type": "stream",
     "text": [
      "2022-07-12 12:56:25,280 [INFO] Building modeled\n"
     ]
    }
   ],
   "source": [
    "# create windows\n",
    "U_c.assign_conditioned_zone()\n",
    "U_c.HB_building_window_generation_floor_area_ratio()\n",
    "\n",
    "# add shades\n",
    "U_c.add_context_surfaces_to_HB_model()\n",
    "# assign constructions, loads etc...\n",
    "U_c.apply_buildings_characteristics()\n",
    "\n",
    "# add blinds\n",
    "\n",
    "# add thermal mass\n",
    "U_c.add_thermal_mass_int_wall()\n",
    "\n",
    "# log #\n",
    "logging.info(\"Building modeled\")\n",
    "#"
   ],
   "metadata": {
    "collapsed": false,
    "pycharm": {
     "name": "#%% DF + HB modeling using GIS data + typology\n"
    }
   }
  },
  {
   "cell_type": "code",
   "execution_count": 17,
   "outputs": [
    {
     "name": "stdout",
     "output_type": "stream",
     "text": [
      "Program Type: IS_Residential_5282_ref_AB\n",
      "Construction,\n",
      " IS_InternalWall_Internalmass_Res_Ref, !- name\n",
      " IS_CB41-4-10x50x20-030_half, !- layer 1\n",
      " IS_CementMortar_0.015;    !- layer 2\n"
     ]
    }
   ],
   "source": [
    "print(U_c.building_dict[0].HB_model.rooms[0].properties.energy.program_type)\n",
    "print(U_c.building_dict[0].HB_model.rooms[0].properties.energy.internal_masses[0].construction)\n"
   ],
   "metadata": {
    "collapsed": false,
    "pycharm": {
     "name": "#%% test\n"
    }
   }
  },
  {
   "cell_type": "code",
   "execution_count": 18,
   "outputs": [],
   "source": [
    "U_c.create_simulation_folder_buildings(path_folder_building_simulation)"
   ],
   "metadata": {
    "collapsed": false,
    "pycharm": {
     "name": "#%% Clean/create simulation folder\n"
    }
   }
  },
  {
   "cell_type": "code",
   "execution_count": 19,
   "outputs": [],
   "source": [
    "# All the buildings that are target buildings\n",
    "U_c.context_to_hbjson(path_folder_context_hbjson)\n",
    "U_c.context_surfaces_to_hbjson(path_folder_building_simulation)\n",
    "# U_c.GIS_context_individual_to_hbjson(path_folder_building_simulation)"
   ],
   "metadata": {
    "collapsed": false,
    "pycharm": {
     "name": "#%% Generate json to plot context\n"
    }
   }
  },
  {
   "cell_type": "code",
   "execution_count": 20,
   "outputs": [],
   "source": [
    "## Merge simulation parameters files\n",
    "U_c.load_simulation_parameter(path_folder_simulation_parameter, path_simulation_parameter)\n",
    "## Add design days\n",
    "U_c.add_design_days_to_simulation_parameters(path_simulation_parameter, path_file_epw)\n",
    "\n"
   ],
   "metadata": {
    "collapsed": false,
    "pycharm": {
     "name": "#%% Extract simulation parameters\n"
    }
   }
  },
  {
   "cell_type": "code",
   "execution_count": 21,
   "outputs": [],
   "source": [
    "\n",
    "#### Extract simulation parameters ####\n",
    "U_c.model_to_HBjson(path_folder_building_simulation)\n",
    "\n",
    "\n"
   ],
   "metadata": {
    "collapsed": false,
    "pycharm": {
     "name": "#%% Generate HB models\n"
    }
   }
  },
  {
   "cell_type": "code",
   "execution_count": null,
   "outputs": [
    {
     "ename": "KeyboardInterrupt",
     "evalue": "",
     "output_type": "error",
     "traceback": [
      "\u001B[1;31m---------------------------------------------------------------------------\u001B[0m",
      "\u001B[1;31mKeyboardInterrupt\u001B[0m                         Traceback (most recent call last)",
      "\u001B[1;32mC:\\Users\\ELIE-M~1\\AppData\\Local\\Temp/ipykernel_13996/1709119736.py\u001B[0m in \u001B[0;36m<module>\u001B[1;34m\u001B[0m\n\u001B[0;32m      1\u001B[0m \u001B[1;31m#### Extract simulation parameters ####\u001B[0m\u001B[1;33m\u001B[0m\u001B[1;33m\u001B[0m\u001B[1;33m\u001B[0m\u001B[0m\n\u001B[1;32m----> 2\u001B[1;33m \u001B[0mU_c\u001B[0m\u001B[1;33m.\u001B[0m\u001B[0msimulate_idf\u001B[0m\u001B[1;33m(\u001B[0m\u001B[0mpath_folder_building_simulation\u001B[0m\u001B[1;33m,\u001B[0m \u001B[0mpath_simulation_parameter\u001B[0m\u001B[1;33m,\u001B[0m \u001B[0mpath_file_epw\u001B[0m\u001B[1;33m,\u001B[0m \u001B[0mpath_energyplus_exe\u001B[0m\u001B[1;33m)\u001B[0m\u001B[1;33m\u001B[0m\u001B[1;33m\u001B[0m\u001B[0m\n\u001B[0m\u001B[0;32m      3\u001B[0m \u001B[1;33m\u001B[0m\u001B[0m\n\u001B[0;32m      4\u001B[0m \u001B[1;33m\u001B[0m\u001B[0m\n\u001B[0;32m      5\u001B[0m \u001B[1;33m\u001B[0m\u001B[0m\n",
      "\u001B[1;32mD:\\Elie\\PhD\\Programming\\Elie_UBEM_tool\\urban_canopy\\urban_canopy.py\u001B[0m in \u001B[0;36msimulate_idf\u001B[1;34m(self, path_folder_building_simulation, path_simulation_parameter, path_file_epw, path_energyplus_exe)\u001B[0m\n\u001B[0;32m    289\u001B[0m             \u001B[1;33m(\u001B[0m\u001B[0mosm\u001B[0m\u001B[1;33m,\u001B[0m \u001B[0midf\u001B[0m\u001B[1;33m)\u001B[0m \u001B[1;33m=\u001B[0m \u001B[0mrun\u001B[0m\u001B[1;33m.\u001B[0m\u001B[0mrun_osw\u001B[0m\u001B[1;33m(\u001B[0m\u001B[0mosw\u001B[0m\u001B[1;33m,\u001B[0m \u001B[0mmeasures_only\u001B[0m\u001B[1;33m=\u001B[0m\u001B[1;32mTrue\u001B[0m\u001B[1;33m,\u001B[0m \u001B[0msilent\u001B[0m\u001B[1;33m=\u001B[0m\u001B[1;32mFalse\u001B[0m\u001B[1;33m)\u001B[0m\u001B[1;33m\u001B[0m\u001B[1;33m\u001B[0m\u001B[0m\n\u001B[0;32m    290\u001B[0m             \u001B[1;31m# zob = run.run_idf(idf, epw_file_path=path_file_epw,silent=False)\u001B[0m\u001B[1;33m\u001B[0m\u001B[1;33m\u001B[0m\u001B[1;33m\u001B[0m\u001B[0m\n\u001B[1;32m--> 291\u001B[1;33m             zob = run_idf_windows_modified(idf_file_path=idf, epw_file_path=path_file_epw, expand_objects=True,\n\u001B[0m\u001B[0;32m    292\u001B[0m                                            silent=False, path_energyplus_exe=path_energyplus_exe)\n\u001B[0;32m    293\u001B[0m \u001B[1;33m\u001B[0m\u001B[0m\n",
      "\u001B[1;32mD:\\Elie\\PhD\\Programming\\Elie_UBEM_tool\\urban_canopy\\urban_canopy.py\u001B[0m in \u001B[0;36mrun_idf_windows_modified\u001B[1;34m(idf_file_path, epw_file_path, expand_objects, silent, path_energyplus_exe)\u001B[0m\n\u001B[0;32m    393\u001B[0m         \u001B[0mbatch_file\u001B[0m \u001B[1;33m=\u001B[0m \u001B[0mos\u001B[0m\u001B[1;33m.\u001B[0m\u001B[0mpath\u001B[0m\u001B[1;33m.\u001B[0m\u001B[0mjoin\u001B[0m\u001B[1;33m(\u001B[0m\u001B[0mdirectory\u001B[0m\u001B[1;33m,\u001B[0m \u001B[1;34m'in.bat'\u001B[0m\u001B[1;33m)\u001B[0m\u001B[1;33m\u001B[0m\u001B[1;33m\u001B[0m\u001B[0m\n\u001B[0;32m    394\u001B[0m         \u001B[0mwrite_to_file\u001B[0m\u001B[1;33m(\u001B[0m\u001B[0mbatch_file\u001B[0m\u001B[1;33m,\u001B[0m \u001B[0mbatch\u001B[0m\u001B[1;33m,\u001B[0m \u001B[1;32mTrue\u001B[0m\u001B[1;33m)\u001B[0m\u001B[1;33m\u001B[0m\u001B[1;33m\u001B[0m\u001B[0m\n\u001B[1;32m--> 395\u001B[1;33m         \u001B[0mos\u001B[0m\u001B[1;33m.\u001B[0m\u001B[0msystem\u001B[0m\u001B[1;33m(\u001B[0m\u001B[1;34m'\"{}\"'\u001B[0m\u001B[1;33m.\u001B[0m\u001B[0mformat\u001B[0m\u001B[1;33m(\u001B[0m\u001B[0mbatch_file\u001B[0m\u001B[1;33m)\u001B[0m\u001B[1;33m)\u001B[0m  \u001B[1;31m# run the batch file\u001B[0m\u001B[1;33m\u001B[0m\u001B[1;33m\u001B[0m\u001B[0m\n\u001B[0m\u001B[0;32m    396\u001B[0m     \u001B[1;32melse\u001B[0m\u001B[1;33m:\u001B[0m  \u001B[1;31m# run the simulation using subprocess\u001B[0m\u001B[1;33m\u001B[0m\u001B[1;33m\u001B[0m\u001B[0m\n\u001B[0;32m    397\u001B[0m         \u001B[0mcmds\u001B[0m \u001B[1;33m=\u001B[0m \u001B[1;33m[\u001B[0m\u001B[0mfolders\u001B[0m\u001B[1;33m.\u001B[0m\u001B[0menergyplus_exe\u001B[0m\u001B[1;33m,\u001B[0m \u001B[1;34m'-i '\u001B[0m\u001B[1;33m,\u001B[0m \u001B[0mfolders\u001B[0m\u001B[1;33m.\u001B[0m\u001B[0menergyplus_idd_path\u001B[0m\u001B[1;33m,\u001B[0m \u001B[1;34m'-r '\u001B[0m\u001B[1;33m,\u001B[0m \u001B[0midf_file_path\u001B[0m\u001B[1;33m]\u001B[0m\u001B[1;33m\u001B[0m\u001B[1;33m\u001B[0m\u001B[0m\n",
      "\u001B[1;31mKeyboardInterrupt\u001B[0m: "
     ]
    }
   ],
   "source": [
    "#### Extract simulation parameters ####\n",
    "U_c.simulate_idf(path_folder_building_simulation, path_simulation_parameter, path_file_epw, path_energyplus_exe)\n",
    "\n",
    "\n",
    "\n",
    "\n",
    "\n"
   ],
   "metadata": {
    "collapsed": false,
    "pycharm": {
     "name": "#%% Generate IDF\n",
     "is_executing": true
    }
   }
  },
  {
   "cell_type": "code",
   "execution_count": 22,
   "outputs": [],
   "source": [
    "\n",
    "\n",
    "\n",
    "\n",
    "\n",
    "\n",
    "\n",
    "\n",
    "\n",
    "\n",
    "\n",
    "\n",
    "\n",
    "\n",
    "\n",
    "\n",
    "\n",
    "\n",
    "\n",
    "\n",
    "\n",
    "\n",
    "\n",
    "\n",
    "\n",
    "\n"
   ],
   "metadata": {
    "collapsed": false,
    "pycharm": {
     "name": "#%% test\n"
    }
   }
  }
 ],
 "metadata": {
  "kernelspec": {
   "name": "pycharm-cd121374",
   "language": "python",
   "display_name": "PyCharm (pythonProject2)"
  },
  "language_info": {
   "codemirror_mode": {
    "name": "ipython",
    "version": 2
   },
   "file_extension": ".py",
   "mimetype": "text/x-python",
   "name": "python",
   "nbconvert_exporter": "python",
   "pygments_lexer": "ipython2",
   "version": "2.7.6"
  }
 },
 "nbformat": 4,
 "nbformat_minor": 1
}