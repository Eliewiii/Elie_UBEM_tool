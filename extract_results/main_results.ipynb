{
 "cells": [
  {
   "cell_type": "code",
   "execution_count": 8,
   "outputs": [],
   "source": [
    "from results import Results"
   ],
   "metadata": {
    "collapsed": false,
    "pycharm": {
     "name": "#%%\n"
    }
   }
  },
  {
   "cell_type": "code",
   "execution_count": 9,
   "outputs": [],
   "source": [
    "result_obj = Results()"
   ],
   "metadata": {
    "collapsed": false,
    "pycharm": {
     "name": "#%%\n"
    }
   }
  },
  {
   "cell_type": "code",
   "execution_count": 10,
   "outputs": [],
   "source": [
    "# directory_result = \"D:\\Pycharm\\Task\\pythonProject2\"\n",
    "directory_result = \"D://Elie//PhD//Programming//Extract_results//results_to_extract\"\n",
    "\n",
    "result_obj.extract_csv(path_folder_simulations=directory_result)"
   ],
   "metadata": {
    "collapsed": false,
    "pycharm": {
     "name": "#%%\n"
    }
   }
  },
  {
   "cell_type": "code",
   "execution_count": 11,
   "outputs": [
    {
     "data": {
      "text/plain": "{'Building_0_Simulation_Simulation_BER_ref_A_east': <building_csv.Building at 0x22813e61850>,\n 'Building_0_Simulation_Simulation_BER_ref_A_north': <building_csv.Building at 0x2281039e580>,\n 'Building_0_Simulation_Simulation_BER_ref_A_south': <building_csv.Building at 0x22813e61520>,\n 'Building_0_Simulation_Simulation_BER_ref_A_west': <building_csv.Building at 0x228103793d0>}"
     },
     "execution_count": 11,
     "metadata": {},
     "output_type": "execute_result"
    }
   ],
   "source": [
    "result_obj.dict_building"
   ],
   "metadata": {
    "collapsed": false,
    "pycharm": {
     "name": "#%%\n"
    }
   }
  },
  {
   "cell_type": "code",
   "execution_count": 12,
   "outputs": [],
   "source": [
    "# result_obj.dict_building[\"Building_0_Simulation_Simulation_26_05_2022_15h_08m_26s\"]"
   ],
   "metadata": {
    "collapsed": false,
    "pycharm": {
     "name": "#%%\n"
    }
   }
  },
  {
   "cell_type": "code",
   "execution_count": 13,
   "outputs": [],
   "source": [
    "# print(result_obj.dict_building[\"Building_0_Simulation_Simulation_26_05_2022_15h_08m_26s\"].dict_apartment[\"Flr1_apartment_0\"].total)\n"
   ],
   "metadata": {
    "collapsed": false,
    "pycharm": {
     "name": "#%%\n"
    }
   }
  },
  {
   "cell_type": "code",
   "execution_count": 14,
   "outputs": [
    {
     "name": "stdout",
     "output_type": "stream",
     "text": [
      "Building_0_Simulation_Simulation_BER_ref_A_east : rating=E, tot_cop=75.77kWh/m2,tot_ber=38.54kWh/m2 \n",
      "\t Flr1_apartment_0 : h_cop=1.088, c_cop=28.89, tot_ber_no_light=29.984 kWh/m2, rating=D kWh/m2\n",
      "\t Flr2_apartment_0 : h_cop=0.864, c_cop=38.18, tot_ber_no_light=39.052 kWh/m2, rating=E kWh/m2\n",
      "\t Flr3_apartment_0 : h_cop=0.853, c_cop=39.76, tot_ber_no_light=40.621 kWh/m2, rating=F kWh/m2\n",
      "\t Flr4_apartment_0 : h_cop=0.971, c_cop=39.85, tot_ber_no_light=40.821 kWh/m2, rating=F kWh/m2\n",
      "\t Flr5_apartment_0 : h_cop=1.625, c_cop=40.63, tot_ber_no_light=42.262 kWh/m2, rating=D kWh/m2\n",
      "Building_0_Simulation_Simulation_BER_ref_A_north : rating=E, tot_cop=73.37kWh/m2,tot_ber=36.14kWh/m2 \n",
      "\t Flr1_apartment_0 : h_cop=3.089, c_cop=25.46, tot_ber_no_light=28.556 kWh/m2, rating=D kWh/m2\n",
      "\t Flr2_apartment_0 : h_cop=2.519, c_cop=33.72, tot_ber_no_light=36.244 kWh/m2, rating=E kWh/m2\n",
      "\t Flr3_apartment_0 : h_cop=2.466, c_cop=35.19, tot_ber_no_light=37.666 kWh/m2, rating=E kWh/m2\n",
      "\t Flr4_apartment_0 : h_cop=2.663, c_cop=35.33, tot_ber_no_light=37.997 kWh/m2, rating=E kWh/m2\n",
      "\t Flr5_apartment_0 : h_cop=3.727, c_cop=36.52, tot_ber_no_light=40.253 kWh/m2, rating=C kWh/m2\n",
      "Building_0_Simulation_Simulation_BER_ref_A_south : rating=D, tot_cop=72.48kWh/m2,tot_ber=35.25kWh/m2 \n",
      "\t Flr1_apartment_0 : h_cop=0.223, c_cop=26.81, tot_ber_no_light=27.035 kWh/m2, rating=C kWh/m2\n",
      "\t Flr2_apartment_0 : h_cop=0.176, c_cop=35.54, tot_ber_no_light=35.721 kWh/m2, rating=D kWh/m2\n",
      "\t Flr3_apartment_0 : h_cop=0.176, c_cop=37.10, tot_ber_no_light=37.284 kWh/m2, rating=E kWh/m2\n",
      "\t Flr4_apartment_0 : h_cop=0.210, c_cop=37.24, tot_ber_no_light=37.451 kWh/m2, rating=E kWh/m2\n",
      "\t Flr5_apartment_0 : h_cop=0.451, c_cop=38.32, tot_ber_no_light=38.778 kWh/m2, rating=C kWh/m2\n",
      "Building_0_Simulation_Simulation_BER_ref_A_west : rating=E, tot_cop=74.17kWh/m2,tot_ber=36.94kWh/m2 \n",
      "\t Flr1_apartment_0 : h_cop=1.554, c_cop=27.10, tot_ber_no_light=28.657 kWh/m2, rating=D kWh/m2\n",
      "\t Flr2_apartment_0 : h_cop=1.176, c_cop=35.94, tot_ber_no_light=37.118 kWh/m2, rating=E kWh/m2\n",
      "\t Flr3_apartment_0 : h_cop=1.158, c_cop=37.59, tot_ber_no_light=38.754 kWh/m2, rating=E kWh/m2\n",
      "\t Flr4_apartment_0 : h_cop=1.311, c_cop=37.78, tot_ber_no_light=39.099 kWh/m2, rating=E kWh/m2\n",
      "\t Flr5_apartment_0 : h_cop=2.165, c_cop=38.94, tot_ber_no_light=41.106 kWh/m2, rating=D kWh/m2\n"
     ]
    }
   ],
   "source": [
    "result_obj.print_detailed_results_BER(apartment_details=True)\n",
    "\n",
    "# result_obj.print_detailed_results()"
   ],
   "metadata": {
    "collapsed": false,
    "pycharm": {
     "name": "#%%\n"
    }
   }
  }
 ],
 "metadata": {
  "kernelspec": {
   "name": "pycharm-cd121374",
   "language": "python",
   "display_name": "PyCharm (pythonProject2)"
  },
  "language_info": {
   "codemirror_mode": {
    "name": "ipython",
    "version": 2
   },
   "file_extension": ".py",
   "mimetype": "text/x-python",
   "name": "python",
   "nbconvert_exporter": "python",
   "pygments_lexer": "ipython2",
   "version": "2.7.6"
  }
 },
 "nbformat": 4,
 "nbformat_minor": 0
}