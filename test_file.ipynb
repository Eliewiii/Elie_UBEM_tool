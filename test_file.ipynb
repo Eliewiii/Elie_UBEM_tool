{
 "cells": [
  {
   "cell_type": "code",
   "execution_count": null,
   "metadata": {
    "collapsed": true
   },
   "outputs": [],
   "source": [
    "from tools._save_and_load_objects import load_object_pickle\n",
    "\n",
    "U_c = load_object_pickle(\n",
    "    \"D:\\Elie\\PhD\\Simulation\\Simulation_saved\\BER_LCA_proj\\\\New_ref_5_floors\\IS_5280_A_Tel_Aviv\\Simulation_BER_ref_A_east\\\\Urban_canopy\\\\uc_obj.p\")\n",
    "\n",
    "print(U_c.name)\n",
    "\n",
    "print(U_c.building_dict)"
   ]
  }
 ],
 "metadata": {
  "kernelspec": {
   "name": "pycharm-cd121374",
   "language": "python",
   "display_name": "PyCharm (pythonProject2)"
  },
  "language_info": {
   "codemirror_mode": {
    "name": "ipython",
    "version": 2
   },
   "file_extension": ".py",
   "mimetype": "text/x-python",
   "name": "python",
   "nbconvert_exporter": "python",
   "pygments_lexer": "ipython2",
   "version": "2.7.6"
  }
 },
 "nbformat": 4,
 "nbformat_minor": 0
}